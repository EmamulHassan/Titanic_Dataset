{
 "cells": [
  {
   "cell_type": "code",
   "execution_count": null,
   "id": "0124a4e5",
   "metadata": {},
   "outputs": [],
   "source": [
    "#importing libraries\n",
    "import pandas as pd\n",
    "import numpy as np\n",
    "import matplotlib.pyplot as plt\n",
    "import seaborn as sns\n",
    "%matplotlib inline"
   ]
  },
  {
   "cell_type": "code",
   "execution_count": null,
   "id": "21fb2f74",
   "metadata": {},
   "outputs": [],
   "source": [
    "#importing dataset\n",
    "titanic_dt = pd.read_csv('train.csv')"
   ]
  },
  {
   "cell_type": "code",
   "execution_count": null,
   "id": "7138f026",
   "metadata": {},
   "outputs": [],
   "source": [
    "titanic_dt.head()"
   ]
  },
  {
   "cell_type": "code",
   "execution_count": null,
   "id": "b5bed106",
   "metadata": {},
   "outputs": [],
   "source": [
    "#missing data check\n",
    "titanic_dt.isna().sum()"
   ]
  },
  {
   "cell_type": "code",
   "execution_count": null,
   "id": "28c3868c",
   "metadata": {},
   "outputs": [],
   "source": [
    "#null values watching in a heatmap \n",
    "sns.heatmap(titanic_dt.isnull(),yticklabels=False,cbar=False,cmap='viridis')"
   ]
  },
  {
   "cell_type": "code",
   "execution_count": null,
   "id": "7f7c906f",
   "metadata": {},
   "outputs": [],
   "source": [
    "# checking if the dataset is balanced with how many people survived and how many did not\n",
    "sns.set_style('whitegrid')\n",
    "sns.countplot(x='Survived',data=titanic_dt)"
   ]
  },
  {
   "cell_type": "code",
   "execution_count": null,
   "id": "5f47d67d",
   "metadata": {},
   "outputs": [],
   "source": [
    "# checking survival rate of male and female\n",
    "sns.set_style('whitegrid')\n",
    "sns.countplot(x='Survived',hue='Sex',data=titanic_dt,palette='RdBu_r')"
   ]
  },
  {
   "cell_type": "code",
   "execution_count": null,
   "id": "320a50fd",
   "metadata": {},
   "outputs": [],
   "source": [
    "# checking survival rate of passenger classes\n",
    "sns.set_style('whitegrid')\n",
    "sns.countplot(x='Survived',hue='Pclass',data=titanic_dt,palette='rainbow')"
   ]
  },
  {
   "cell_type": "code",
   "execution_count": null,
   "id": "f7e3e19a",
   "metadata": {},
   "outputs": [],
   "source": [
    "# checking age of passenger in historgram\n",
    "titanic_dt['Age'].hist(bins=30,color='darkred',alpha=0.3)"
   ]
  },
  {
   "cell_type": "code",
   "execution_count": null,
   "id": "8276b2b0",
   "metadata": {},
   "outputs": [],
   "source": [
    "# checking the graph of sibling and spouses\n",
    "sns.countplot(x='SibSp',data=titanic_dt)"
   ]
  },
  {
   "cell_type": "code",
   "execution_count": null,
   "id": "6a37e2ef",
   "metadata": {},
   "outputs": [],
   "source": [
    "# checking the graph of fare in historgram\n",
    "titanic_dt['Fare'].hist(color='green',bins=40,figsize=(8,4))"
   ]
  },
  {
   "cell_type": "code",
   "execution_count": null,
   "id": "c5d7c651",
   "metadata": {},
   "outputs": [],
   "source": [
    "# Removing Null values from the dataset\n",
    "#ploting a graph of passenger age and class where middle line is the average passenger age\n",
    "plt.figure(figsize=(12, 7))\n",
    "sns.boxplot(x='Pclass',y='Age',data=titanic_dt,palette='winter')"
   ]
  },
  {
   "cell_type": "code",
   "execution_count": null,
   "id": "ea67e010",
   "metadata": {},
   "outputs": [],
   "source": [
    "# defining age according to passenger class\n",
    "def impute_age(cols):\n",
    "    Age = cols[0]\n",
    "    Pclass = cols[1]\n",
    "    \n",
    "    if pd.isnull(Age): #enter loop if age is null\n",
    "\n",
    "        if Pclass == 1:\n",
    "            return 35 #returning 35 becasuse for pclass 1 average age is 37\n",
    "\n",
    "        elif Pclass == 2:\n",
    "            return 28 #returning 28 becasuse for pclass 2 average age is 29\n",
    "\n",
    "        else:\n",
    "            return 23 #returning 23 becasuse for pclass 3 average age is 24\n",
    "\n",
    "    else:\n",
    "        return Age #returning the actual age as age is cannot be null"
   ]
  },
  {
   "cell_type": "code",
   "execution_count": null,
   "id": "fbb94e54",
   "metadata": {},
   "outputs": [],
   "source": [
    "#now applying the fucntion into dataset to replace null values of age\n",
    "titanic_dt['Age'] = titanic_dt[['Age','Pclass']].apply(impute_age,axis=1)"
   ]
  },
  {
   "cell_type": "code",
   "execution_count": null,
   "id": "51a9cbca",
   "metadata": {
    "scrolled": true
   },
   "outputs": [],
   "source": [
    "#now checking the heatmap again to compare\n",
    "sns.heatmap(titanic_dt.isnull(),yticklabels=False,cbar=False,cmap='viridis')"
   ]
  },
  {
   "cell_type": "code",
   "execution_count": null,
   "id": "157f62f8",
   "metadata": {},
   "outputs": [],
   "source": [
    "#we will drop the cabin as there are too many missing entries\n",
    "titanic_dt.drop('Cabin',axis=1,inplace=True)"
   ]
  },
  {
   "cell_type": "code",
   "execution_count": null,
   "id": "56a5e0e5",
   "metadata": {},
   "outputs": [],
   "source": [
    "#checking if cabin is dropped or not\n",
    "titanic_dt.head()"
   ]
  },
  {
   "cell_type": "code",
   "execution_count": null,
   "id": "93a08e64",
   "metadata": {},
   "outputs": [],
   "source": [
    "#one hot encoding\n",
    "pd.get_dummies(titanic_dt['Embarked'],drop_first=True).head()"
   ]
  },
  {
   "cell_type": "code",
   "execution_count": null,
   "id": "d5029e66",
   "metadata": {},
   "outputs": [],
   "source": [
    "#removing Sex and Embarked Feature\n",
    "sex = pd.get_dummies(titanic_dt['Sex'],drop_first=True)\n",
    "embark = pd.get_dummies(titanic_dt['Embarked'],drop_first=True)"
   ]
  },
  {
   "cell_type": "code",
   "execution_count": null,
   "id": "afec8bf5",
   "metadata": {},
   "outputs": [],
   "source": [
    "titanic_dt.drop(['Sex','Embarked','Name','Ticket'],axis=1,inplace=True)"
   ]
  },
  {
   "cell_type": "code",
   "execution_count": null,
   "id": "fc063325",
   "metadata": {},
   "outputs": [],
   "source": [
    "#cheking if features removed or not\n",
    "titanic_dt.head()"
   ]
  },
  {
   "cell_type": "code",
   "execution_count": null,
   "id": "47fba809",
   "metadata": {},
   "outputs": [],
   "source": [
    "titanic_dt = pd.concat([titanic_dt,sex,embark],axis=1)\n",
    "titanic_dt.head()"
   ]
  },
  {
   "cell_type": "code",
   "execution_count": null,
   "id": "930a49c3",
   "metadata": {},
   "outputs": [],
   "source": [
    "#droping survive column as it is my dependet feature\n",
    "titanic_dt.drop('Survived',axis=1).head()"
   ]
  },
  {
   "cell_type": "code",
   "execution_count": null,
   "id": "14bedba1",
   "metadata": {},
   "outputs": [],
   "source": [
    "#output data\n",
    "titanic_dt['Survived'].head()"
   ]
  },
  {
   "cell_type": "code",
   "execution_count": null,
   "id": "2174f98b",
   "metadata": {},
   "outputs": [],
   "source": [
    "from sklearn.model_selection import train_test_split\n",
    "\n",
    "#model validation\n",
    "from sklearn.metrics import log_loss,roc_auc_score,precision_score,f1_score,recall_score,roc_curve,auc\n",
    "from sklearn.metrics import classification_report, confusion_matrix,accuracy_score,fbeta_score,matthews_corrcoef\n",
    "from sklearn import metrics\n",
    "\n",
    "# cross validation\n",
    "from sklearn.model_selection import StratifiedKFold\n",
    "\n",
    "# machine learning algorithms\n",
    "from sklearn.linear_model import LogisticRegression\n",
    "from sklearn.ensemble import RandomForestClassifier,VotingClassifier,AdaBoostClassifier,GradientBoostingClassifier,RandomForestClassifier,ExtraTreesClassifier\n",
    "from sklearn.neural_network import MLPClassifier\n",
    "from sklearn.tree import DecisionTreeClassifier\n",
    "from sklearn.linear_model import SGDClassifier\n",
    "from sklearn.svm import SVC "
   ]
  },
  {
   "cell_type": "code",
   "execution_count": null,
   "id": "7530771f",
   "metadata": {},
   "outputs": [],
   "source": [
    "#train test spliting\n",
    "X_train, X_test, y_train, y_test = train_test_split(titanic_dt.drop('Survived',axis=1),titanic_dt['Survived'],test_size=0.30,random_state=5)\n"
   ]
  },
  {
   "cell_type": "code",
   "execution_count": null,
   "id": "01f493e9",
   "metadata": {},
   "outputs": [],
   "source": [
    "#Decision Tree Model"
   ]
  },
  {
   "cell_type": "code",
   "execution_count": null,
   "id": "202314a0",
   "metadata": {},
   "outputs": [],
   "source": [
    "decc = DecisionTreeClassifier()\n",
    "decc.fit(X_train,y_train)\n",
    "y_pred_decc = decc.predict(X_test)"
   ]
  },
  {
   "cell_type": "code",
   "execution_count": null,
   "id": "a777c7dd",
   "metadata": {},
   "outputs": [],
   "source": [
    "CM=confusion_matrix(y_test,y_pred_decc)\n",
    "sns.heatmap(CM, annot=True)\n",
    "\n",
    "TN = CM[0][0]\n",
    "FN = CM[1][0]\n",
    "TP = CM[1][1]\n",
    "FP = CM[0][1]\n",
    "specificity = TN/(TN+FP)\n",
    "loss_log = log_loss(y_test, y_pred_decc)\n",
    "acc= accuracy_score(y_test, y_pred_decc)\n",
    "roc=roc_auc_score(y_test, y_pred_decc)\n",
    "prec = precision_score(y_test, y_pred_decc)\n",
    "rec = recall_score(y_test, y_pred_decc)\n",
    "f1 = f1_score(y_test, y_pred_decc)\n",
    "\n",
    "mathew = matthews_corrcoef(y_test, y_pred_decc)\n",
    "model_results =pd.DataFrame([['Decision Tree',acc, prec,rec,specificity, f1,roc, loss_log,mathew]],\n",
    "               columns = ['Model', 'Accuracy','Precision', 'Sensitivity','Specificity', 'F1 Score','ROC','Log_Loss','mathew_corrcoef'])\n",
    "\n",
    "model_results"
   ]
  },
  {
   "cell_type": "code",
   "execution_count": null,
   "id": "992f6a38",
   "metadata": {},
   "outputs": [],
   "source": [
    "#Naive Bayes Model"
   ]
  },
  {
   "cell_type": "code",
   "execution_count": null,
   "id": "af6cd7e8",
   "metadata": {},
   "outputs": [],
   "source": [
    "from sklearn.naive_bayes import GaussianNB\n",
    "gb = GaussianNB()\n",
    "gb.fit(X_train,y_train)\n",
    "y_pred_gb = gb.predict(X_test)"
   ]
  },
  {
   "cell_type": "code",
   "execution_count": null,
   "id": "fffbcc84",
   "metadata": {},
   "outputs": [],
   "source": [
    "CM=confusion_matrix(y_test,y_pred_gb)\n",
    "sns.heatmap(CM, annot=True)\n",
    "\n",
    "TN = CM[0][0]\n",
    "FN = CM[1][0]\n",
    "TP = CM[1][1]\n",
    "FP = CM[0][1]\n",
    "specificity = TN/(TN+FP)\n",
    "loss_log = log_loss(y_test, y_pred_gb)\n",
    "acc= accuracy_score(y_test, y_pred_gb)\n",
    "roc=roc_auc_score(y_test, y_pred_gb)\n",
    "prec = precision_score(y_test, y_pred_gb)\n",
    "rec = recall_score(y_test, y_pred_gb)\n",
    "f1 = f1_score(y_test, y_pred_gb)\n",
    "\n",
    "mathew = matthews_corrcoef(y_test, y_pred_gb)\n",
    "model_results =pd.DataFrame([['Naive Bayes',acc, prec,rec,specificity, f1,roc, loss_log,mathew]],\n",
    "               columns = ['Model', 'Accuracy','Precision', 'Sensitivity','Specificity', 'F1 Score','ROC','Log_Loss','mathew_corrcoef'])\n",
    "\n",
    "model_results"
   ]
  },
  {
   "cell_type": "code",
   "execution_count": null,
   "id": "dddce291",
   "metadata": {},
   "outputs": [],
   "source": [
    "#SVM Model"
   ]
  },
  {
   "cell_type": "code",
   "execution_count": null,
   "id": "356916e2",
   "metadata": {},
   "outputs": [],
   "source": [
    "svc = SVC(kernel='linear',gamma='auto',probability=True)\n",
    "svc.fit(X_train,y_train)\n",
    "y_pred_svc = svc.predict(X_test)"
   ]
  },
  {
   "cell_type": "code",
   "execution_count": null,
   "id": "b73192e1",
   "metadata": {},
   "outputs": [],
   "source": [
    "CM=confusion_matrix(y_test,y_pred_svc)\n",
    "sns.heatmap(CM, annot=True)\n",
    "\n",
    "TN = CM[0][0]\n",
    "FN = CM[1][0]\n",
    "TP = CM[1][1]\n",
    "FP = CM[0][1]\n",
    "specificity = TN/(TN+FP)\n",
    "loss_log = log_loss(y_test, y_pred_svc)\n",
    "acc= accuracy_score(y_test, y_pred_svc)\n",
    "roc=roc_auc_score(y_test, y_pred_svc)\n",
    "prec = precision_score(y_test, y_pred_svc)\n",
    "rec = recall_score(y_test, y_pred_svc)\n",
    "f1 = f1_score(y_test, y_pred_svc)\n",
    "\n",
    "mathew = matthews_corrcoef(y_test, y_pred_svc)\n",
    "model_results =pd.DataFrame([['Support Vector Classifier Linear',acc, prec,rec,specificity, f1,roc, loss_log,mathew]],\n",
    "               columns = ['Model', 'Accuracy','Precision', 'Sensitivity','Specificity', 'F1 Score','ROC','Log_Loss','mathew_corrcoef'])\n",
    "\n",
    "model_results"
   ]
  },
  {
   "cell_type": "code",
   "execution_count": null,
   "id": "945d7485",
   "metadata": {},
   "outputs": [],
   "source": [
    "#Random Forest Model"
   ]
  },
  {
   "cell_type": "code",
   "execution_count": null,
   "id": "c5de64a0",
   "metadata": {},
   "outputs": [],
   "source": [
    "rf_ent = RandomForestClassifier(criterion='entropy',n_estimators=100)\n",
    "rf_ent.fit(X_train, y_train)\n",
    "y_pred_rfe = rf_ent.predict(X_test)"
   ]
  },
  {
   "cell_type": "code",
   "execution_count": null,
   "id": "addc3f3c",
   "metadata": {},
   "outputs": [],
   "source": [
    "CM=confusion_matrix(y_test,y_pred_rfe)\n",
    "sns.heatmap(CM, annot=True)\n",
    "\n",
    "TN = CM[0][0]\n",
    "FN = CM[1][0]\n",
    "TP = CM[1][1]\n",
    "FP = CM[0][1]\n",
    "specificity = TN/(TN+FP)\n",
    "loss_log = log_loss(y_test, y_pred_rfe)\n",
    "acc= accuracy_score(y_test, y_pred_rfe)\n",
    "roc=roc_auc_score(y_test, y_pred_rfe)\n",
    "prec = precision_score(y_test, y_pred_rfe)\n",
    "rec = recall_score(y_test, y_pred_rfe)\n",
    "f1 = f1_score(y_test, y_pred_rfe)\n",
    "\n",
    "mathew = matthews_corrcoef(y_test, y_pred_lgreg)\n",
    "model_results =pd.DataFrame([['Random Forest',acc, prec,rec,specificity, f1,roc, loss_log,mathew]],\n",
    "               columns = ['Model', 'Accuracy','Precision', 'Sensitivity','Specificity', 'F1 Score','ROC','Log_Loss','mathew_corrcoef'])\n",
    "\n",
    "model_results"
   ]
  },
  {
   "cell_type": "code",
   "execution_count": null,
   "id": "dd45464e",
   "metadata": {},
   "outputs": [],
   "source": [
    "#Logistic Regression Model"
   ]
  },
  {
   "cell_type": "code",
   "execution_count": null,
   "id": "63ff056e",
   "metadata": {},
   "outputs": [],
   "source": [
    "lg_reg = LogisticRegression(penalty='l2')\n",
    "lg_reg.fit(X_train,y_train)\n",
    "y_pred_lgreg = lg_reg.predict(X_test)"
   ]
  },
  {
   "cell_type": "code",
   "execution_count": null,
   "id": "b69b28c8",
   "metadata": {},
   "outputs": [],
   "source": [
    "CM=confusion_matrix(y_test,y_pred_lgreg)\n",
    "sns.heatmap(CM, annot=True)\n",
    "\n",
    "TN = CM[0][0]\n",
    "FN = CM[1][0]\n",
    "TP = CM[1][1]\n",
    "FP = CM[0][1]\n",
    "specificity = TN/(TN+FP)\n",
    "loss_log = log_loss(y_test, y_pred_lgreg)\n",
    "acc= accuracy_score(y_test, y_pred_lgreg)\n",
    "roc=roc_auc_score(y_test, y_pred_lgreg)\n",
    "prec = precision_score(y_test, y_pred_lgreg)\n",
    "rec = recall_score(y_test, y_pred_lgreg)\n",
    "f1 = f1_score(y_test, y_pred_lgreg)\n",
    "\n",
    "mathew = matthews_corrcoef(y_test, y_pred_lgreg)\n",
    "model_results =pd.DataFrame([['Logistic Regression',acc, prec,rec,specificity, f1,roc, loss_log,mathew]],\n",
    "               columns = ['Model', 'Accuracy','Precision', 'Sensitivity','Specificity', 'F1 Score','ROC','Log_Loss','mathew_corrcoef'])\n",
    "\n",
    "model_results"
   ]
  },
  {
   "cell_type": "code",
   "execution_count": null,
   "id": "78ef1fc9",
   "metadata": {},
   "outputs": [],
   "source": [
    "#ROC\n",
    "def roc_auc_plot(y_true, y_proba, label=' ', l='-', lw=1.0):\n",
    "    from sklearn.metrics import roc_curve, roc_auc_score\n",
    "    fpr, tpr, _ = roc_curve(y_true, y_proba[:,1])\n",
    "    ax.plot(fpr, tpr, linestyle=l, linewidth=lw,\n",
    "            label=\"%s (area=%.3f)\"%(label,roc_auc_score(y_true, y_proba[:,1])))\n",
    "\n",
    "f, ax = plt.subplots(figsize=(12,8))\n",
    "\n",
    "\n",
    "roc_auc_plot(y_test,decc.predict_proba(X_test),label='Decision Tree ',l='-')\n",
    "roc_auc_plot(y_test,gb.predict_proba(X_test),label='Gaussian Naive Bayes ',l='-')\n",
    "roc_auc_plot(y_test,svc.predict_proba(X_test),label='Linear SVM',l='-')\n",
    "roc_auc_plot(y_test,lg_reg.predict_proba(X_test),label='Logistic Regression',l='-')\n",
    "roc_auc_plot(y_test,rf_ent.predict_proba(X_test),label='Random Forest',l='-')\n",
    "\n",
    "ax.plot([0,1], [0,1], color='k', linewidth=0.5, linestyle='--', \n",
    "        )    \n",
    "ax.legend(loc=\"lower right\")    \n",
    "ax.set_xlabel('False Positive Rate')\n",
    "ax.set_ylabel('True Positive Rate')\n",
    "ax.set_xlim([0, 1])\n",
    "ax.set_ylim([0, 1])\n",
    "ax.set_title('Receiver Operator Characteristic curves')\n",
    "sns.despine()"
   ]
  },
  {
   "cell_type": "code",
   "execution_count": null,
   "id": "97414a5b",
   "metadata": {},
   "outputs": [],
   "source": []
  },
  {
   "cell_type": "code",
   "execution_count": null,
   "id": "0203ba08",
   "metadata": {},
   "outputs": [],
   "source": []
  },
  {
   "cell_type": "code",
   "execution_count": null,
   "id": "c9ecdbcd",
   "metadata": {},
   "outputs": [],
   "source": []
  }
 ],
 "metadata": {
  "kernelspec": {
   "display_name": "Python 3",
   "language": "python",
   "name": "python3"
  },
  "language_info": {
   "codemirror_mode": {
    "name": "ipython",
    "version": 3
   },
   "file_extension": ".py",
   "mimetype": "text/x-python",
   "name": "python",
   "nbconvert_exporter": "python",
   "pygments_lexer": "ipython3",
   "version": "3.8.8"
  }
 },
 "nbformat": 4,
 "nbformat_minor": 5
}
